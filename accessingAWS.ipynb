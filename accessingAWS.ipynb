{
 "cells": [
  {
   "cell_type": "code",
   "execution_count": 2,
   "metadata": {},
   "outputs": [],
   "source": [
    "import psycopg2\n",
    "import pandas as pd\n",
    "\n",
    "#connecting to the database\n",
    "conn = psycopg2.connect(database = 'testdb2',\n",
    "                        user =     'anishsaha1868',\n",
    "                        password = 'password',\n",
    "                        host =     'database-1.ca0vxwhbbe6b.us-east-1.rds.amazonaws.com',\n",
    "                        port =     '5432')\n",
    "\n",
    "#creating a connection object\n",
    "cur = conn.cursor()\n",
    "\n",
    "#created the table\n",
    "#cur.execute(\"\"\"CREATE TABLE justdb( CVE INT PRIMARY KEY, justifications text)\"\"\")\n",
    "cur.execute(\"\"\"CREATE TABLE JustificationsDB (CVE Char(50) Primary Key, justifications text)\"\"\")\n",
    "conn.commit()\n"
   ]
  },
  {
   "cell_type": "code",
   "execution_count": 69,
   "metadata": {},
   "outputs": [],
   "source": [
    "#altering table type\n",
    "x = \"\"\"ALTER TABLE justdb ALTER COLUMN cve TYPE Char(50)\"\"\"\n",
    "cur.execute(x)"
   ]
  },
  {
   "cell_type": "code",
   "execution_count": 2,
   "metadata": {},
   "outputs": [],
   "source": [
    "#inserting data into the table\n",
    "postgres_insert_query = \"\"\" INSERT INTO justdb VALUES ('CVE-2021-35937', 'Inherited from base image.')\"\"\"\n",
    "cur.execute(postgres_insert_query)\n",
    "conn.commit()"
   ]
  },
  {
   "cell_type": "code",
   "execution_count": 3,
   "metadata": {},
   "outputs": [
    {
     "data": {
      "text/html": [
       "<div>\n",
       "<style scoped>\n",
       "    .dataframe tbody tr th:only-of-type {\n",
       "        vertical-align: middle;\n",
       "    }\n",
       "\n",
       "    .dataframe tbody tr th {\n",
       "        vertical-align: top;\n",
       "    }\n",
       "\n",
       "    .dataframe thead th {\n",
       "        text-align: right;\n",
       "    }\n",
       "</style>\n",
       "<table border=\"1\" class=\"dataframe\">\n",
       "  <thead>\n",
       "    <tr style=\"text-align: right;\">\n",
       "      <th></th>\n",
       "      <th>cve</th>\n",
       "      <th>justifications</th>\n",
       "    </tr>\n",
       "  </thead>\n",
       "  <tbody>\n",
       "  </tbody>\n",
       "</table>\n",
       "</div>"
      ],
      "text/plain": [
       "Empty DataFrame\n",
       "Columns: [cve, justifications]\n",
       "Index: []"
      ]
     },
     "execution_count": 3,
     "metadata": {},
     "output_type": "execute_result"
    }
   ],
   "source": [
    "sql = \"\"\" SELECT * from JustificationsDB \"\"\"\n",
    "pd.read_sql(sql, con=conn)"
   ]
  },
  {
   "cell_type": "code",
   "execution_count": null,
   "metadata": {},
   "outputs": [],
   "source": []
  }
 ],
 "metadata": {
  "kernelspec": {
   "display_name": "Python 3",
   "language": "python",
   "name": "python3"
  },
  "language_info": {
   "codemirror_mode": {
    "name": "ipython",
    "version": 3
   },
   "file_extension": ".py",
   "mimetype": "text/x-python",
   "name": "python",
   "nbconvert_exporter": "python",
   "pygments_lexer": "ipython3",
   "version": "3.7.4"
  }
 },
 "nbformat": 4,
 "nbformat_minor": 2
}
