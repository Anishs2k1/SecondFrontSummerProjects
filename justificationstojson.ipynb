{
 "cells": [
  {
   "cell_type": "code",
   "execution_count": 4,
   "metadata": {},
   "outputs": [
    {
     "name": "stdout",
     "output_type": "stream",
     "text": [
      "Enter the path of your file: /Users/zaha/Downloads/justifications.xlsx\n"
     ]
    }
   ],
   "source": [
    "from openpyxl import load_workbook\n",
    "from openpyxl.utils import get_column_letter\n",
    "import json\n",
    "\n",
    "def jsonconverter(filepath):\n",
    "    \n",
    "    wb = load_workbook(filename=x)\n",
    "    ws = wb.active\n",
    "\n",
    "    my_list = []\n",
    "\n",
    "    last_column = len(list(ws.columns))\n",
    "    last_row = len(list(ws.rows))\n",
    "\n",
    "    for row in range(1, last_row + 1):\n",
    "        my_dict = {}\n",
    "        for column in range(1, last_column + 1):\n",
    "            column_letter = get_column_letter(column)\n",
    "            if row > 1:\n",
    "                my_dict[ws[column_letter + str(1)].value] = ws[column_letter + str(row)].value\n",
    "        my_list.append(my_dict)\n",
    "\n",
    "    data = json.dumps(my_list, indent=4)\n",
    "    \n",
    "    with open('justifications.json', 'a+', encoding='utf-8') as f:\n",
    "        f.write(data)\n",
    "        \n",
    "x = input(\"Enter the path of your file: \")\n",
    "\n",
    "jsonconverter(x)"
   ]
  },
  {
   "cell_type": "code",
   "execution_count": null,
   "metadata": {},
   "outputs": [],
   "source": []
  }
 ],
 "metadata": {
  "kernelspec": {
   "display_name": "Python 3",
   "language": "python",
   "name": "python3"
  },
  "language_info": {
   "codemirror_mode": {
    "name": "ipython",
    "version": 3
   },
   "file_extension": ".py",
   "mimetype": "text/x-python",
   "name": "python",
   "nbconvert_exporter": "python",
   "pygments_lexer": "ipython3",
   "version": "3.7.4"
  }
 },
 "nbformat": 4,
 "nbformat_minor": 2
}
