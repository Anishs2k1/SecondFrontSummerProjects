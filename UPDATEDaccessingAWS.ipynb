{
 "cells": [
  {
   "cell_type": "code",
   "execution_count": 31,
   "metadata": {},
   "outputs": [
    {
     "name": "stdout",
     "output_type": "stream",
     "text": [
      "b'database-1.ca0vxwhbbe6b.us-east-1.rds.amazonaws.com'\n",
      "b'testdb2'\n",
      "b'anishsaha1868'\n",
      "b'password'\n",
      "b'5432'\n",
      "b'database-1.ca0vxwhbbe6b.us-east-1.rds.amazonaws.com'\n",
      "Connecting rn\n",
      "Connected.\n",
      "-1 Record inserted successfully into mobile table\n",
      "\n",
      "\n",
      "Database connection closed.\n"
     ]
    }
   ],
   "source": [
    "import psycopg2\n",
    "import pandas as pd\n",
    "from configparser import ConfigParser\n",
    "import os\n",
    "import sqlalchemy\n",
    "\n",
    "def config(filename = 'credentials.ini', section = 'postgresql'):\n",
    "    #Change the directory to the folder where the script is located'\n",
    "    \n",
    "    #Create a Parser\n",
    "    parser = ConfigParser()\n",
    "    \n",
    "    #Read Config File\n",
    "    parser.read(filename)\n",
    "    \n",
    "    #Get section, default to postgresql\n",
    "    db = {}\n",
    "    if parser.has_section(section):\n",
    "        params = parser.items(section)\n",
    "        for param in params:\n",
    "            print(param[1].encode('utf-8'))\n",
    "            db[param[0].encode('utf-8') ] = param[1].encode('utf-8')\n",
    "    else:\n",
    "        raise Exception('Section {0} not found in the {1} file'.format(section, filename))\n",
    "        \n",
    "    #print(\"Configed!\")\n",
    "    return db\n",
    "\n",
    "def connect():\n",
    "    try:\n",
    "        #print('trying to connect')\n",
    "        params = config()\n",
    "        #print('starting to connect')\n",
    "        url = 'postgresql://{}:{}@{}:{}/{}'\n",
    "        print(params[b'host'])\n",
    "        url = url.format(params[b'user'].decode(), params[b'password'].decode(), params[b'host'].decode(), int(params[b'port']), params[b'database'].decode())\n",
    "        \n",
    "        print('Connecting rn')\n",
    "        \n",
    "        con = sqlalchemy.create_engine(url, client_encoding='utf8').raw_connection()\n",
    "        print('Connected.')\n",
    "        \n",
    "        \n",
    "    except Exception as error:\n",
    "        print(error)\n",
    "\n",
    "    return con\n",
    "\n",
    "\n",
    "if __name__ == '__main__':\n",
    "\n",
    "    conn=connect()\n",
    "    cursor = conn.cursor()\n",
    "    #postgres_insert_query = \"\"\" INSERT INTO justificationsDB (cve, Justifications) VALUES (%s,%s)\"\"\"\n",
    "    #record_to_insert = (2, 'None')\n",
    "    #cursor.execute(postgres_insert_query, record_to_insert)\n",
    "    #conn.commit()\n",
    "    count = cursor.rowcount\n",
    "    print(count, \"Record inserted successfully into mobile table\")\n",
    "    print(\"\\n\")\n",
    "    conn.close()\n",
    "    print('Database connection closed.')"
   ]
  },
  {
   "cell_type": "code",
   "execution_count": null,
   "metadata": {},
   "outputs": [],
   "source": []
  }
 ],
 "metadata": {
  "kernelspec": {
   "display_name": "Python 3",
   "language": "python",
   "name": "python3"
  },
  "language_info": {
   "codemirror_mode": {
    "name": "ipython",
    "version": 3
   },
   "file_extension": ".py",
   "mimetype": "text/x-python",
   "name": "python",
   "nbconvert_exporter": "python",
   "pygments_lexer": "ipython3",
   "version": "3.7.4"
  }
 },
 "nbformat": 4,
 "nbformat_minor": 2
}
